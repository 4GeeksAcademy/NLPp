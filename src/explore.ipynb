{
    "cells": [
        {
            "cell_type": "markdown",
            "metadata": {},
            "source": [
                "# Explore here"
            ]
        },
        {
            "cell_type": "code",
            "execution_count": 73,
            "metadata": {},
            "outputs": [],
            "source": [
                "# Galerias\n",
                "import pandas as pd\n",
                "import numpy as np\n",
                "import regex as re\n",
                "\n",
                "import matplotlib.pyplot as plt\n",
                "import seaborn as sns\n",
                "import nltk\n",
                "from nltk import download\n",
                "from nltk.corpus import stopwords\n",
                "from nltk.stem import WordNetLemmatizer\n",
                "import os\n",
                "from nltk.tokenize import word_tokenize\n",
                "from sklearn.preprocessing import StandardScaler\n",
                "from sklearn.feature_extraction.text import TfidfVectorizer\n",
                "from sklearn.model_selection import train_test_split\n",
                "from sklearn.metrics import accuracy_score, classification_report\n",
                "from imblearn.over_sampling import SMOTE\n",
                "from sklearn.svm import SVC\n",
                "\n",
                "import warnings"
            ]
        },
        {
            "cell_type": "code",
            "execution_count": 74,
            "metadata": {},
            "outputs": [
                {
                    "data": {
                        "text/html": [
                            "<div>\n",
                            "<style scoped>\n",
                            "    .dataframe tbody tr th:only-of-type {\n",
                            "        vertical-align: middle;\n",
                            "    }\n",
                            "\n",
                            "    .dataframe tbody tr th {\n",
                            "        vertical-align: top;\n",
                            "    }\n",
                            "\n",
                            "    .dataframe thead th {\n",
                            "        text-align: right;\n",
                            "    }\n",
                            "</style>\n",
                            "<table border=\"1\" class=\"dataframe\">\n",
                            "  <thead>\n",
                            "    <tr style=\"text-align: right;\">\n",
                            "      <th></th>\n",
                            "      <th>url</th>\n",
                            "      <th>is_spam</th>\n",
                            "    </tr>\n",
                            "  </thead>\n",
                            "  <tbody>\n",
                            "    <tr>\n",
                            "      <th>0</th>\n",
                            "      <td>https://briefingday.us8.list-manage.com/unsubs...</td>\n",
                            "      <td>True</td>\n",
                            "    </tr>\n",
                            "    <tr>\n",
                            "      <th>1</th>\n",
                            "      <td>https://www.hvper.com/</td>\n",
                            "      <td>True</td>\n",
                            "    </tr>\n",
                            "    <tr>\n",
                            "      <th>2</th>\n",
                            "      <td>https://briefingday.com/m/v4n3i4f3</td>\n",
                            "      <td>True</td>\n",
                            "    </tr>\n",
                            "    <tr>\n",
                            "      <th>3</th>\n",
                            "      <td>https://briefingday.com/n/20200618/m#commentform</td>\n",
                            "      <td>False</td>\n",
                            "    </tr>\n",
                            "    <tr>\n",
                            "      <th>4</th>\n",
                            "      <td>https://briefingday.com/fan</td>\n",
                            "      <td>True</td>\n",
                            "    </tr>\n",
                            "    <tr>\n",
                            "      <th>...</th>\n",
                            "      <td>...</td>\n",
                            "      <td>...</td>\n",
                            "    </tr>\n",
                            "    <tr>\n",
                            "      <th>2994</th>\n",
                            "      <td>https://www.smartcitiesworld.net/news/news/dee...</td>\n",
                            "      <td>False</td>\n",
                            "    </tr>\n",
                            "    <tr>\n",
                            "      <th>2995</th>\n",
                            "      <td>https://www.youtube.com/watch</td>\n",
                            "      <td>True</td>\n",
                            "    </tr>\n",
                            "    <tr>\n",
                            "      <th>2996</th>\n",
                            "      <td>https://techcrunch.com/2019/07/04/an-optimisti...</td>\n",
                            "      <td>False</td>\n",
                            "    </tr>\n",
                            "    <tr>\n",
                            "      <th>2997</th>\n",
                            "      <td>https://www.technologyreview.com/2019/12/20/13...</td>\n",
                            "      <td>False</td>\n",
                            "    </tr>\n",
                            "    <tr>\n",
                            "      <th>2998</th>\n",
                            "      <td>https://www.bbc.com/news/technology-51018758</td>\n",
                            "      <td>False</td>\n",
                            "    </tr>\n",
                            "  </tbody>\n",
                            "</table>\n",
                            "<p>2999 rows × 2 columns</p>\n",
                            "</div>"
                        ],
                        "text/plain": [
                            "                                                    url  is_spam\n",
                            "0     https://briefingday.us8.list-manage.com/unsubs...     True\n",
                            "1                                https://www.hvper.com/     True\n",
                            "2                    https://briefingday.com/m/v4n3i4f3     True\n",
                            "3      https://briefingday.com/n/20200618/m#commentform    False\n",
                            "4                           https://briefingday.com/fan     True\n",
                            "...                                                 ...      ...\n",
                            "2994  https://www.smartcitiesworld.net/news/news/dee...    False\n",
                            "2995                      https://www.youtube.com/watch     True\n",
                            "2996  https://techcrunch.com/2019/07/04/an-optimisti...    False\n",
                            "2997  https://www.technologyreview.com/2019/12/20/13...    False\n",
                            "2998       https://www.bbc.com/news/technology-51018758    False\n",
                            "\n",
                            "[2999 rows x 2 columns]"
                        ]
                    },
                    "execution_count": 74,
                    "metadata": {},
                    "output_type": "execute_result"
                }
            ],
            "source": [
                "url = \"https://raw.githubusercontent.com/4GeeksAcademy/NLP-project-tutorial/main/url_spam.csv\"\n",
                "df = pd.read_csv(url)\n",
                "df"
            ]
        },
        {
            "cell_type": "code",
            "execution_count": 75,
            "metadata": {},
            "outputs": [
                {
                    "name": "stderr",
                    "output_type": "stream",
                    "text": [
                        "[nltk_data] Downloading package stopwords to /home/vscode/nltk_data...\n",
                        "[nltk_data]   Package stopwords is already up-to-date!\n",
                        "[nltk_data] Downloading package wordnet to /home/vscode/nltk_data...\n",
                        "[nltk_data]   Package wordnet is already up-to-date!\n"
                    ]
                }
            ],
            "source": [
                "# Descarga de los recursos \n",
                "nltk.download('stopwords')\n",
                "nltk.download('wordnet')\n",
                "stop_words = set(stopwords.words('english'))\n",
                "lemmatizer = WordNetLemmatizer()"
            ]
        },
        {
            "cell_type": "code",
            "execution_count": 76,
            "metadata": {},
            "outputs": [],
            "source": [
                "# Limpieza de caracteres innecesarios\n",
                "\n",
                "def clean_url(url):\n",
                "    url = re.sub(r'https?://', '', url)\n",
                "    url = re.sub(r'[^a-zA-Z ]', ' ', url)\n",
                "    url = re.sub(r'\\s+', ' ', url)\n",
                "    return url.lower()\n",
                "\n",
                "# Division de tokens y lematizacion\n",
                "\n",
                "def preprocess_text(url):\n",
                "    url = clean_url(url)\n",
                "    tokens = url.split()\n",
                "    tokens = [lemmatizer.lemmatize(t) for t in tokens if t not in stop_words and len(t) > 3]\n",
                "    return \" \".join(tokens)\n",
                "\n",
                "df['is_spam'] = df['is_spam'].astype(int)\n",
                "df['url'] = df['url'].apply(preprocess_text)"
            ]
        },
        {
            "cell_type": "code",
            "execution_count": 77,
            "metadata": {},
            "outputs": [
                {
                    "name": "stdout",
                    "output_type": "stream",
                    "text": [
                        "<class 'pandas.core.frame.DataFrame'>\n",
                        "RangeIndex: 2999 entries, 0 to 2998\n",
                        "Data columns (total 2 columns):\n",
                        " #   Column   Non-Null Count  Dtype \n",
                        "---  ------   --------------  ----- \n",
                        " 0   url      2999 non-null   object\n",
                        " 1   is_spam  2999 non-null   int64 \n",
                        "dtypes: int64(1), object(1)\n",
                        "memory usage: 47.0+ KB\n"
                    ]
                }
            ],
            "source": [
                "df.info()"
            ]
        },
        {
            "cell_type": "markdown",
            "metadata": {},
            "source": [
                "El data set contiene 2999filas y 2 columnas.\n",
                "*Url*: almacena str dedirecciones web.\n",
                "*is_spam*: columna booleana. *True* y *False*"
            ]
        },
        {
            "cell_type": "code",
            "execution_count": 78,
            "metadata": {},
            "outputs": [],
            "source": [
                "# Vectorizar \n",
                "vectorizer = TfidfVectorizer(max_features=5000, max_df=0.85, min_df=3, ngram_range=(1, 2))\n",
                "X = vectorizer.fit_transform(df[\"url\"]).toarray()\n",
                "y = df[\"is_spam\"]\n"
            ]
        },
        {
            "cell_type": "code",
            "execution_count": 79,
            "metadata": {},
            "outputs": [],
            "source": [
                "# Dividimos en train y test\n",
                "X_train, X_test, y_train, y_test = train_test_split(X, y, test_size=0.2, random_state=42, stratify=y)"
            ]
        },
        {
            "cell_type": "code",
            "execution_count": 80,
            "metadata": {},
            "outputs": [],
            "source": [
                "# Balanceamos los valores son Smote\n",
                "smote = SMOTE(random_state=42)\n",
                "X_train_balanced, y_train_balanced = smote.fit_resample(X_train, y_train)\n"
            ]
        },
        {
            "cell_type": "code",
            "execution_count": 81,
            "metadata": {},
            "outputs": [
                {
                    "data": {
                        "text/plain": [
                            "((600, 1917), (600, 1917))"
                        ]
                    },
                    "execution_count": 81,
                    "metadata": {},
                    "output_type": "execute_result"
                }
            ],
            "source": [
                "# Escalamos los datos\n",
                "scaler = StandardScaler()\n",
                "X_train_scaled = scaler.fit_transform(X_train_balanced)\n",
                "X_test_scaled = scaler.transform(X_test)\n",
                "X_test_scaled.shape , X_test_scaled.shape"
            ]
        },
        {
            "cell_type": "code",
            "execution_count": 82,
            "metadata": {},
            "outputs": [
                {
                    "name": "stdout",
                    "output_type": "stream",
                    "text": [
                        "              precision    recall  f1-score   support\n",
                        "\n",
                        "           0       0.96      0.90      0.93       461\n",
                        "           1       0.73      0.87      0.80       139\n",
                        "\n",
                        "    accuracy                           0.90       600\n",
                        "   macro avg       0.85      0.89      0.86       600\n",
                        "weighted avg       0.91      0.90      0.90       600\n",
                        "\n"
                    ]
                }
            ],
            "source": [
                "# Entreno el modelo SVM con kernel RBF\n",
                "model = SVC(kernel='rbf', C=1, gamma='scale', random_state=42)\n",
                "model.fit(X_train_scaled, y_train_balanced)\n",
                "y_p = model.predict(X_test_scaled)\n",
                "print(classification_report(y_test, y_p))\n"
            ]
        },
        {
            "cell_type": "markdown",
            "metadata": {},
            "source": [
                "Clase *No spam* tiene una precisión alta del 96%, lo que significa que el modelo detecta correctamente la mayoría de los correos legítimos. Clase *Spam* tiene un recall del 87%, lo que indica que identifica la mayoría de los correos spam, aunque la precisión es del 73%.\n",
                "El F1-score de 80% para spam muestra un buen equilibrio entre precisión y recall, pero aún podría mejorarse, para ello es recomendarle un GridSearchCV"
            ]
        },
        {
            "cell_type": "code",
            "execution_count": 83,
            "metadata": {},
            "outputs": [
                {
                    "name": "stdout",
                    "output_type": "stream",
                    "text": [
                        "Fitting 5 folds for each of 20 candidates, totalling 100 fits\n",
                        "[CV] END .................C=0.01, gamma=scale, kernel=linear; total time=   6.7s\n",
                        "[CV] END .................C=0.01, gamma=scale, kernel=linear; total time=   6.9s\n",
                        "[CV] END .................C=0.01, gamma=scale, kernel=linear; total time=   6.9s\n",
                        "[CV] END .................C=0.01, gamma=scale, kernel=linear; total time=   6.7s\n",
                        "[CV] END .................C=0.01, gamma=scale, kernel=linear; total time=   6.9s\n",
                        "[CV] END ....................C=0.01, gamma=scale, kernel=rbf; total time=  16.5s\n",
                        "[CV] END ....................C=0.01, gamma=scale, kernel=rbf; total time=  15.4s\n",
                        "[CV] END ....................C=0.01, gamma=scale, kernel=rbf; total time=  15.5s\n",
                        "[CV] END ....................C=0.01, gamma=scale, kernel=rbf; total time=  16.2s\n",
                        "[CV] END ..................C=0.01, gamma=auto, kernel=linear; total time=   6.1s\n",
                        "[CV] END ....................C=0.01, gamma=scale, kernel=rbf; total time=  14.9s\n",
                        "[CV] END ..................C=0.01, gamma=auto, kernel=linear; total time=   5.7s\n",
                        "[CV] END ..................C=0.01, gamma=auto, kernel=linear; total time=   6.8s\n",
                        "[CV] END ..................C=0.01, gamma=auto, kernel=linear; total time=   6.6s\n",
                        "[CV] END ..................C=0.01, gamma=auto, kernel=linear; total time=   6.4s\n",
                        "[CV] END .....................C=0.01, gamma=auto, kernel=rbf; total time=  16.0s\n",
                        "[CV] END .....................C=0.01, gamma=auto, kernel=rbf; total time=  16.0s\n",
                        "[CV] END .....................C=0.01, gamma=auto, kernel=rbf; total time=  15.9s\n",
                        "[CV] END .....................C=0.01, gamma=auto, kernel=rbf; total time=  15.7s\n",
                        "[CV] END ..................C=0.1, gamma=scale, kernel=linear; total time=   5.0s\n",
                        "[CV] END ..................C=0.1, gamma=scale, kernel=linear; total time=   4.4s\n",
                        "[CV] END .....................C=0.01, gamma=auto, kernel=rbf; total time=  16.0s\n",
                        "[CV] END ..................C=0.1, gamma=scale, kernel=linear; total time=   3.8s\n",
                        "[CV] END ..................C=0.1, gamma=scale, kernel=linear; total time=   5.0s\n",
                        "[CV] END ..................C=0.1, gamma=scale, kernel=linear; total time=   4.8s\n",
                        "[CV] END .....................C=0.1, gamma=scale, kernel=rbf; total time=   9.6s\n",
                        "[CV] END .....................C=0.1, gamma=scale, kernel=rbf; total time=  10.4s\n",
                        "[CV] END .....................C=0.1, gamma=scale, kernel=rbf; total time=  10.7s\n",
                        "[CV] END .....................C=0.1, gamma=scale, kernel=rbf; total time=   9.7s\n",
                        "[CV] END ...................C=0.1, gamma=auto, kernel=linear; total time=   4.9s\n",
                        "[CV] END ...................C=0.1, gamma=auto, kernel=linear; total time=   4.4s\n",
                        "[CV] END .....................C=0.1, gamma=scale, kernel=rbf; total time=  11.5s\n",
                        "[CV] END ...................C=0.1, gamma=auto, kernel=linear; total time=   4.4s\n",
                        "[CV] END ...................C=0.1, gamma=auto, kernel=linear; total time=   5.1s\n",
                        "[CV] END ...................C=0.1, gamma=auto, kernel=linear; total time=   4.6s\n",
                        "[CV] END ......................C=0.1, gamma=auto, kernel=rbf; total time=  10.3s\n",
                        "[CV] END ......................C=0.1, gamma=auto, kernel=rbf; total time=  10.2s\n",
                        "[CV] END ......................C=0.1, gamma=auto, kernel=rbf; total time=  10.1s\n",
                        "[CV] END ......................C=0.1, gamma=auto, kernel=rbf; total time=  10.2s\n",
                        "[CV] END ....................C=1, gamma=scale, kernel=linear; total time=   4.8s\n",
                        "[CV] END ....................C=1, gamma=scale, kernel=linear; total time=   3.7s\n",
                        "[CV] END ......................C=0.1, gamma=auto, kernel=rbf; total time=  10.6s\n",
                        "[CV] END ....................C=1, gamma=scale, kernel=linear; total time=   4.6s\n",
                        "[CV] END ....................C=1, gamma=scale, kernel=linear; total time=   4.9s\n",
                        "[CV] END ....................C=1, gamma=scale, kernel=linear; total time=   4.5s\n",
                        "[CV] END .......................C=1, gamma=scale, kernel=rbf; total time=   7.1s\n",
                        "[CV] END .......................C=1, gamma=scale, kernel=rbf; total time=   7.3s\n",
                        "[CV] END .......................C=1, gamma=scale, kernel=rbf; total time=   7.5s\n",
                        "[CV] END .......................C=1, gamma=scale, kernel=rbf; total time=   7.9s\n",
                        "[CV] END .......................C=1, gamma=scale, kernel=rbf; total time=   7.2s\n",
                        "[CV] END .....................C=1, gamma=auto, kernel=linear; total time=   3.7s\n",
                        "[CV] END .....................C=1, gamma=auto, kernel=linear; total time=   4.4s\n",
                        "[CV] END .....................C=1, gamma=auto, kernel=linear; total time=   4.8s\n",
                        "[CV] END .....................C=1, gamma=auto, kernel=linear; total time=   4.8s\n",
                        "[CV] END .....................C=1, gamma=auto, kernel=linear; total time=   4.5s\n",
                        "[CV] END ........................C=1, gamma=auto, kernel=rbf; total time=   6.8s\n",
                        "[CV] END ........................C=1, gamma=auto, kernel=rbf; total time=   7.3s\n",
                        "[CV] END ........................C=1, gamma=auto, kernel=rbf; total time=   7.5s\n",
                        "[CV] END ........................C=1, gamma=auto, kernel=rbf; total time=   7.4s\n",
                        "[CV] END ...................C=10, gamma=scale, kernel=linear; total time=   4.3s\n",
                        "[CV] END ........................C=1, gamma=auto, kernel=rbf; total time=   6.9s\n",
                        "[CV] END ...................C=10, gamma=scale, kernel=linear; total time=   4.5s\n",
                        "[CV] END ...................C=10, gamma=scale, kernel=linear; total time=   4.8s\n",
                        "[CV] END ...................C=10, gamma=scale, kernel=linear; total time=   4.8s\n",
                        "[CV] END ...................C=10, gamma=scale, kernel=linear; total time=   4.6s\n",
                        "[CV] END ......................C=10, gamma=scale, kernel=rbf; total time=   5.0s\n",
                        "[CV] END ......................C=10, gamma=scale, kernel=rbf; total time=   5.5s\n",
                        "[CV] END ......................C=10, gamma=scale, kernel=rbf; total time=   5.8s\n",
                        "[CV] END ......................C=10, gamma=scale, kernel=rbf; total time=   6.0s\n",
                        "[CV] END ......................C=10, gamma=scale, kernel=rbf; total time=   5.6s\n",
                        "[CV] END ....................C=10, gamma=auto, kernel=linear; total time=   4.1s\n",
                        "[CV] END ....................C=10, gamma=auto, kernel=linear; total time=   4.5s\n",
                        "[CV] END ....................C=10, gamma=auto, kernel=linear; total time=   4.9s\n",
                        "[CV] END ....................C=10, gamma=auto, kernel=linear; total time=   4.6s\n",
                        "[CV] END ....................C=10, gamma=auto, kernel=linear; total time=   4.7s\n",
                        "[CV] END .......................C=10, gamma=auto, kernel=rbf; total time=   4.8s\n",
                        "[CV] END .......................C=10, gamma=auto, kernel=rbf; total time=   5.5s\n",
                        "[CV] END .......................C=10, gamma=auto, kernel=rbf; total time=   5.6s\n",
                        "[CV] END .......................C=10, gamma=auto, kernel=rbf; total time=   6.0s\n",
                        "[CV] END .......................C=10, gamma=auto, kernel=rbf; total time=   5.3s\n",
                        "[CV] END ...................C=50, gamma=scale, kernel=linear; total time=   5.0s\n",
                        "[CV] END ...................C=50, gamma=scale, kernel=linear; total time=   4.4s\n",
                        "[CV] END ...................C=50, gamma=scale, kernel=linear; total time=   4.6s\n",
                        "[CV] END ...................C=50, gamma=scale, kernel=linear; total time=   4.8s\n",
                        "[CV] END ...................C=50, gamma=scale, kernel=linear; total time=   4.2s\n",
                        "[CV] END ......................C=50, gamma=scale, kernel=rbf; total time=   3.9s\n",
                        "[CV] END ......................C=50, gamma=scale, kernel=rbf; total time=   4.1s\n",
                        "[CV] END ......................C=50, gamma=scale, kernel=rbf; total time=   4.6s\n",
                        "[CV] END ......................C=50, gamma=scale, kernel=rbf; total time=   4.4s\n",
                        "[CV] END ......................C=50, gamma=scale, kernel=rbf; total time=   4.5s\n",
                        "[CV] END ....................C=50, gamma=auto, kernel=linear; total time=   5.1s\n",
                        "[CV] END ....................C=50, gamma=auto, kernel=linear; total time=   4.3s\n",
                        "[CV] END ....................C=50, gamma=auto, kernel=linear; total time=   4.3s\n",
                        "[CV] END ....................C=50, gamma=auto, kernel=linear; total time=   4.8s\n",
                        "[CV] END ....................C=50, gamma=auto, kernel=linear; total time=   4.5s\n",
                        "[CV] END .......................C=50, gamma=auto, kernel=rbf; total time=   3.4s\n",
                        "[CV] END .......................C=50, gamma=auto, kernel=rbf; total time=   4.2s\n",
                        "[CV] END .......................C=50, gamma=auto, kernel=rbf; total time=   4.7s\n",
                        "[CV] END .......................C=50, gamma=auto, kernel=rbf; total time=   4.6s\n",
                        "[CV] END .......................C=50, gamma=auto, kernel=rbf; total time=   3.4s\n",
                        "Mejores parámetros: {'C': 50, 'gamma': 'scale', 'kernel': 'rbf'}\n",
                        "              precision    recall  f1-score   support\n",
                        "\n",
                        "           0       0.97      0.97      0.97       461\n",
                        "           1       0.89      0.91      0.90       139\n",
                        "\n",
                        "    accuracy                           0.95       600\n",
                        "   macro avg       0.93      0.94      0.93       600\n",
                        "weighted avg       0.95      0.95      0.95       600\n",
                        "\n"
                    ]
                }
            ],
            "source": [
                "from sklearn.model_selection import GridSearchCV\n",
                "\n",
                "param_grid = {\n",
                "    'kernel': ['linear', 'rbf'],\n",
                "    'C': [0.01, 0.1, 1, 10, 50],\n",
                "    'gamma': ['scale', 'auto']\n",
                "}\n",
                "\n",
                "grid = GridSearchCV(SVC(), param_grid, cv=5, scoring='f1', verbose=2, n_jobs=-1)\n",
                "grid.fit(X_train_scaled, y_train_balanced)\n",
                "\n",
                "print(\"Mejores parámetros:\", grid.best_params_)\n",
                "\n",
                "# Mejor modelo\n",
                "best_model = grid.best_estimator_\n",
                "y_pred_best = best_model.predict(X_test_scaled)\n",
                "print(classification_report(y_test, y_pred_best))\n"
            ]
        },
        {
            "cell_type": "markdown",
            "metadata": {},
            "source": [
                "Accuracy nos dio un 95% es decir que las predicciones fueron correctas, lo cual es excelente. \n",
                "Macro Avg 93% , 94% y 93% →  promedio entre clases.\n",
                "Weighted Avg arrojo un 95% lo que muestra que el modelo es consistente en ambas clases.\n",
                "Clase *No Spam*, tiene alta precisión.\n",
                "Clase *Spam*, tiene un buen recall, indicando que detecta correctamente la mayoría de los correos spam.\n",
                "La combinación de precisión, recall y F1-score demuestra que el modelo está bien equilibrado.\n",
                "\n",
                "En conclusion podemos decir que el modelo mejoro un 5% con relacion al anterior dandonos asi una mejor precision."
            ]
        }
    ],
    "metadata": {
        "kernelspec": {
            "display_name": "Python 3",
            "language": "python",
            "name": "python3"
        },
        "language_info": {
            "codemirror_mode": {
                "name": "ipython",
                "version": 3
            },
            "file_extension": ".py",
            "mimetype": "text/x-python",
            "name": "python",
            "nbconvert_exporter": "python",
            "pygments_lexer": "ipython3",
            "version": "3.11.4"
        },
        "orig_nbformat": 4
    },
    "nbformat": 4,
    "nbformat_minor": 2
}
